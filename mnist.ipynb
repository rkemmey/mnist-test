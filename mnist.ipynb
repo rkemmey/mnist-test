{
 "cells": [
  {
   "cell_type": "code",
   "execution_count": 1,
   "metadata": {},
   "outputs": [
    {
     "data": {
      "text/plain": [
       "<torch._C.Generator at 0x7f7a1ff99ff0>"
      ]
     },
     "execution_count": 1,
     "metadata": {},
     "output_type": "execute_result"
    }
   ],
   "source": [
    "import pandas as pd\n",
    "from PIL import Image\n",
    "from IPython.display import display\n",
    "from sklearn.preprocessing import StandardScaler\n",
    "from sklearn.model_selection import train_test_split\n",
    "import torch\n",
    "from torch.utils.data import DataLoader, TensorDataset\n",
    "from torch import nn\n",
    "import torch.nn.functional as F\n",
    "from torch import optim\n",
    "from torchmetrics import Accuracy\n",
    "import torchvision\n",
    "import torchvision.transforms as transforms\n",
    "torch.manual_seed(42) # set manual seed"
   ]
  },
  {
   "cell_type": "markdown",
   "metadata": {},
   "source": [
    "#### Dataset info\n",
    "\n",
    "- https://pytorch.org/vision/main/generated/torchvision.datasets.MNIST.html\n",
    "- Can also be found on kaggle: https://www.kaggle.com/datasets/hojjatk/mnist-dataset"
   ]
  },
  {
   "cell_type": "markdown",
   "metadata": {},
   "source": [
    "#### Load data and view an image"
   ]
  },
  {
   "cell_type": "code",
   "execution_count": 3,
   "metadata": {},
   "outputs": [],
   "source": [
    "# load data\n",
    "train_dataset = torchvision.datasets.MNIST(root='./data', train=True, download=True)\n",
    "test_dataset = torchvision.datasets.MNIST(root='./data', train=False, download=True)"
   ]
  },
  {
   "cell_type": "code",
   "execution_count": 4,
   "metadata": {},
   "outputs": [
    {
     "data": {
      "text/plain": [
       "Dataset MNIST\n",
       "    Number of datapoints: 60000\n",
       "    Root location: ./data\n",
       "    Split: Train"
      ]
     },
     "execution_count": 4,
     "metadata": {},
     "output_type": "execute_result"
    }
   ],
   "source": [
    "# dataset contains the pictures as <class 'PIL.Image.Image'>\n",
    "train_dataset"
   ]
  },
  {
   "cell_type": "code",
   "execution_count": 5,
   "metadata": {},
   "outputs": [
    {
     "data": {
      "text/plain": [
       "(<PIL.Image.Image image mode=L size=28x28>, 5)"
      ]
     },
     "execution_count": 5,
     "metadata": {},
     "output_type": "execute_result"
    }
   ],
   "source": [
    "# contains the image and a number as a tuple\n",
    "train_dataset[0]"
   ]
  },
  {
   "cell_type": "code",
   "execution_count": 6,
   "metadata": {},
   "outputs": [],
   "source": [
    "# split up tuple to see image\n",
    "train_image_zero, train_target_zero = train_dataset[0]"
   ]
  },
  {
   "cell_type": "code",
   "execution_count": 7,
   "metadata": {},
   "outputs": [
    {
     "data": {
      "image/jpeg": "[encoded data removed]",
      "image/png": "[encoded data removed]",
      "text/plain": [
       "<PIL.Image.Image image mode=L size=100x100>"
      ]
     },
     "execution_count": 7,
     "metadata": {},
     "output_type": "execute_result"
    }
   ],
   "source": [
    "# resize image because original is small\n",
    "resized_image = train_image_zero.resize((100, 100))\n",
    "\n",
    "#train_image_zero\n",
    "resized_image"
   ]
  },
  {
   "cell_type": "code",
   "execution_count": 8,
   "metadata": {},
   "outputs": [
    {
     "data": {
      "text/plain": [
       "Dataset MNIST\n",
       "    Number of datapoints: 10000\n",
       "    Root location: ./data\n",
       "    Split: Test"
      ]
     },
     "execution_count": 8,
     "metadata": {},
     "output_type": "execute_result"
    }
   ],
   "source": [
    "# see what's in test dataset\n",
    "test_dataset"
   ]
  },
  {
   "cell_type": "markdown",
   "metadata": {},
   "source": [
    "#### Transform images to tensors\n",
    "- use torchvision.transforms to convert images to tensors & transforms.Compose allows you to stack multiple transformations at once\n",
    "    - link: https://pytorch.org/vision/0.9/transforms.html \n",
    "- if you try to apply ToTensor() on the train_dataset you will run into:\n",
    "    - you get an <AttributeError: 'MNIST' object has no attribute 'torchvision'>\n",
    "    - <TypeError: ToTensor.__init__() takes 1 positional argument but 2 were given> because tuples"
   ]
  },
  {
   "cell_type": "code",
   "execution_count": 33,
   "metadata": {},
   "outputs": [],
   "source": [
    "# define transformations\n",
    "transformations = transforms.Compose([\n",
    "    transforms.ToTensor(), \n",
    "    transforms.Normalize((0.5,), (0.5,))])  # using 0.5, 0.5, on many datasets will rearrange them to [-1, +1]\n",
    "\n",
    "train_dataset = torchvision.datasets.MNIST(root='./data', train=True, download=True, transform=transformations)\n",
    "test_dataset = torchvision.datasets.MNIST(root='./data', train=False, download=True, transform=transformations)"
   ]
  },
  {
   "cell_type": "code",
   "execution_count": 34,
   "metadata": {},
   "outputs": [],
   "source": [
    "# transform to dataloader\n",
    "train_loader = DataLoader(train_dataset, batch_size=64, shuffle=True)\n",
    "test_loader = DataLoader(test_dataset, batch_size=64, shuffle=False)"
   ]
  },
  {
   "cell_type": "code",
   "execution_count": 35,
   "metadata": {},
   "outputs": [
    {
     "data": {
      "text/plain": [
       "<torch.utils.data.dataloader.DataLoader at 0x7f793686c7a0>"
      ]
     },
     "execution_count": 35,
     "metadata": {},
     "output_type": "execute_result"
    }
   ],
   "source": [
    "train_loader"
   ]
  },
  {
   "cell_type": "code",
   "execution_count": 49,
   "metadata": {},
   "outputs": [
    {
     "data": {
      "text/plain": [
       "torch.Size([64, 1, 28, 28])"
      ]
     },
     "execution_count": 49,
     "metadata": {},
     "output_type": "execute_result"
    }
   ],
   "source": [
    "data_iter = iter(train_loader)  # Create an iterator\n",
    "images, labels = next(data_iter)  # Get the next batch\n",
    "images.shape\n",
    "#labels.shape"
   ]
  },
  {
   "cell_type": "markdown",
   "metadata": {},
   "source": [
    "##### Helpful link: \n",
    "- https://www.cs.toronto.edu/~lczhang/321/tut/tut04.html"
   ]
  },
  {
   "cell_type": "code",
   "execution_count": 62,
   "metadata": {},
   "outputs": [],
   "source": [
    "class MultiClassificationModel(nn.Module):\n",
    "  def __init__(self):\n",
    "    super(MultiClassificationModel, self).__init__()\n",
    "    self.lin1 = nn.Linear(784, 128)  #784 input features due to 28x28 pixel image\n",
    "    self.dp1 = nn.Dropout(p=0.5)\n",
    "    self.lin2 = nn.Linear(128, 10)\n",
    "    self.act = nn.Softmax(dim=1)\n",
    "\n",
    "  def forward(self, x):\n",
    "    x = x.view(x.size(0), -1)  # Flatten from [batch_size, 1, 28, 28] to [batch_size, 784]\n",
    "    x = self.dp1(F.relu(self.lin1(x)))\n",
    "    x = self.act(self.lin2(x))\n",
    "    return x\n",
    "  \n",
    "model = MultiClassificationModel()"
   ]
  },
  {
   "cell_type": "code",
   "execution_count": 64,
   "metadata": {},
   "outputs": [
    {
     "name": "stdout",
     "output_type": "stream",
     "text": [
      "Average Loss 1.5724898040421735, Epoch: 1\n",
      "Average Loss 1.565006990422572, Epoch: 2\n"
     ]
    }
   ],
   "source": [
    "# loss function and optimizer\n",
    "\n",
    "criterion = nn.CrossEntropyLoss()\n",
    "optimizer = optim.Adam(model.parameters(), lr=0.001)\n",
    "\n",
    "num_epochs = 2\n",
    "for epoch in range(num_epochs):\n",
    "    running_loss = 0\n",
    "    model.train()\n",
    "    for images, labels in iter(train_loader):\n",
    "        output = model(images) # model.forward()\n",
    "        loss = criterion(output, labels)\n",
    "        loss.backward()\n",
    "        optimizer.step()\n",
    "        optimizer.zero_grad()\n",
    "        running_loss += loss.item() # keep track of overall loss rate\n",
    "    avg_loss = running_loss/len(train_loader)\n",
    "    #if not(epoch+1) % 10:\n",
    "    print(f\"Average Loss {avg_loss}, Epoch: {epoch+1}\")"
   ]
  },
  {
   "cell_type": "code",
   "execution_count": 66,
   "metadata": {},
   "outputs": [
    {
     "name": "stdout",
     "output_type": "stream",
     "text": [
      "Accuracy: 0.9305999875068665\n"
     ]
    }
   ],
   "source": [
    "acc = Accuracy(task='multiclass', num_classes=10)\n",
    "model.eval()\n",
    "\n",
    "with torch.no_grad():\n",
    "    for images, labels in test_loader:\n",
    "        output = model(images)\n",
    "        _, predicted = torch.max(output.data, 1) \n",
    "        acc.update(predicted, labels)\n",
    "\n",
    "print(f\"Accuracy: {acc.compute().item()}\")"
   ]
  },
  {
   "cell_type": "code",
   "execution_count": null,
   "metadata": {},
   "outputs": [],
   "source": []
  }
 ],
 "metadata": {
  "kernelspec": {
   "display_name": "Python 3 (ipykernel)",
   "language": "python",
   "name": "python3"
  },
  "language_info": {
   "codemirror_mode": {
    "name": "ipython",
    "version": 3
   },
   "file_extension": ".py",
   "mimetype": "text/x-python",
   "name": "python",
   "nbconvert_exporter": "python",
   "pygments_lexer": "ipython3",
   "version": "3.12.3"
  }
 },
 "nbformat": 4,
 "nbformat_minor": 4
}
